{
  "nbformat": 4,
  "nbformat_minor": 0,
  "metadata": {
    "colab": {
      "name": "Tugas Akhir_SVD",
      "provenance": []
    },
    "kernelspec": {
      "name": "python3",
      "display_name": "Python 3"
    },
    "language_info": {
      "name": "python"
    }
  },
  "cells": [
    {
      "cell_type": "code",
      "metadata": {
        "id": "TwtkK2l5Ga9M",
        "colab": {
          "base_uri": "https://localhost:8080/"
        },
        "outputId": "8844280b-f22c-49c0-9af4-80e108367961"
      },
      "source": [
        "!pip install surprise"
      ],
      "execution_count": null,
      "outputs": [
        {
          "output_type": "stream",
          "text": [
            "Collecting surprise\n",
            "  Downloading surprise-0.1-py2.py3-none-any.whl (1.8 kB)\n",
            "Collecting scikit-surprise\n",
            "  Downloading scikit-surprise-1.1.1.tar.gz (11.8 MB)\n",
            "\u001b[K     |████████████████████████████████| 11.8 MB 47 kB/s \n",
            "\u001b[?25hRequirement already satisfied: joblib>=0.11 in /usr/local/lib/python3.7/dist-packages (from scikit-surprise->surprise) (1.0.1)\n",
            "Requirement already satisfied: numpy>=1.11.2 in /usr/local/lib/python3.7/dist-packages (from scikit-surprise->surprise) (1.19.5)\n",
            "Requirement already satisfied: scipy>=1.0.0 in /usr/local/lib/python3.7/dist-packages (from scikit-surprise->surprise) (1.4.1)\n",
            "Requirement already satisfied: six>=1.10.0 in /usr/local/lib/python3.7/dist-packages (from scikit-surprise->surprise) (1.15.0)\n",
            "Building wheels for collected packages: scikit-surprise\n",
            "  Building wheel for scikit-surprise (setup.py) ... \u001b[?25l\u001b[?25hdone\n",
            "  Created wheel for scikit-surprise: filename=scikit_surprise-1.1.1-cp37-cp37m-linux_x86_64.whl size=1619428 sha256=c834b691aa410cf0e5c2445c5541d08f5b160029e8db513805c0eb7226a48bf0\n",
            "  Stored in directory: /root/.cache/pip/wheels/76/44/74/b498c42be47b2406bd27994e16c5188e337c657025ab400c1c\n",
            "Successfully built scikit-surprise\n",
            "Installing collected packages: scikit-surprise, surprise\n",
            "Successfully installed scikit-surprise-1.1.1 surprise-0.1\n"
          ],
          "name": "stdout"
        }
      ]
    },
    {
      "cell_type": "code",
      "metadata": {
        "id": "KXbGg0DBc1t3"
      },
      "source": [
        "import numpy as np \n",
        "import pandas as pd \n",
        "from surprise import BaselineOnly\n",
        "from surprise import Dataset\n",
        "from surprise import Reader\n",
        "from surprise.model_selection import cross_validate\n",
        "from surprise import SVD\n",
        "from surprise import accuracy\n",
        "from surprise.model_selection import KFold\n",
        "from surprise import KNNBasic,KNNWithMeans\n",
        "from surprise import accuracy\n",
        "from surprise.model_selection import PredefinedKFold\n",
        "from surprise.model_selection import train_test_split\n",
        "from collections import defaultdict\n",
        "import io\n",
        "from surprise.model_selection import GridSearchCV\n",
        "import csv\n",
        "import os\n",
        "import time"
      ],
      "execution_count": null,
      "outputs": []
    },
    {
      "cell_type": "code",
      "metadata": {
        "colab": {
          "base_uri": "https://localhost:8080/",
          "height": 204
        },
        "id": "seY2l-KwjHIe",
        "outputId": "917ba55f-1d0e-4bb7-cb9d-fa819774e33c"
      },
      "source": [
        "df_wisata = pd.read_csv('hasilrating.csv')\n",
        "df_wisata.head()"
      ],
      "execution_count": null,
      "outputs": [
        {
          "output_type": "execute_result",
          "data": {
            "text/html": [
              "<div>\n",
              "<style scoped>\n",
              "    .dataframe tbody tr th:only-of-type {\n",
              "        vertical-align: middle;\n",
              "    }\n",
              "\n",
              "    .dataframe tbody tr th {\n",
              "        vertical-align: top;\n",
              "    }\n",
              "\n",
              "    .dataframe thead th {\n",
              "        text-align: right;\n",
              "    }\n",
              "</style>\n",
              "<table border=\"1\" class=\"dataframe\">\n",
              "  <thead>\n",
              "    <tr style=\"text-align: right;\">\n",
              "      <th></th>\n",
              "      <th>id_wisata</th>\n",
              "      <th>id_user</th>\n",
              "      <th>rating</th>\n",
              "    </tr>\n",
              "  </thead>\n",
              "  <tbody>\n",
              "    <tr>\n",
              "      <th>0</th>\n",
              "      <td>1</td>\n",
              "      <td>1118914</td>\n",
              "      <td>5</td>\n",
              "    </tr>\n",
              "    <tr>\n",
              "      <th>1</th>\n",
              "      <td>1</td>\n",
              "      <td>1925512</td>\n",
              "      <td>2</td>\n",
              "    </tr>\n",
              "    <tr>\n",
              "      <th>2</th>\n",
              "      <td>1</td>\n",
              "      <td>5618425</td>\n",
              "      <td>3</td>\n",
              "    </tr>\n",
              "    <tr>\n",
              "      <th>3</th>\n",
              "      <td>1</td>\n",
              "      <td>9144181</td>\n",
              "      <td>2</td>\n",
              "    </tr>\n",
              "    <tr>\n",
              "      <th>4</th>\n",
              "      <td>1</td>\n",
              "      <td>13212611</td>\n",
              "      <td>3</td>\n",
              "    </tr>\n",
              "  </tbody>\n",
              "</table>\n",
              "</div>"
            ],
            "text/plain": [
              "   id_wisata   id_user  rating\n",
              "0          1   1118914       5\n",
              "1          1   1925512       2\n",
              "2          1   5618425       3\n",
              "3          1   9144181       2\n",
              "4          1  13212611       3"
            ]
          },
          "metadata": {},
          "execution_count": 19
        }
      ]
    },
    {
      "cell_type": "code",
      "metadata": {
        "id": "X4RUIpHW37ZZ",
        "colab": {
          "base_uri": "https://localhost:8080/"
        },
        "outputId": "4e6aa13c-d8e3-46f4-c9fc-b6c3fd2d74b7"
      },
      "source": [
        "df_wisata.info()"
      ],
      "execution_count": null,
      "outputs": [
        {
          "output_type": "stream",
          "text": [
            "<class 'pandas.core.frame.DataFrame'>\n",
            "RangeIndex: 2866 entries, 0 to 2865\n",
            "Data columns (total 3 columns):\n",
            " #   Column     Non-Null Count  Dtype\n",
            "---  ------     --------------  -----\n",
            " 0   id_wisata  2866 non-null   int64\n",
            " 1   id_user    2866 non-null   int64\n",
            " 2   rating     2866 non-null   int64\n",
            "dtypes: int64(3)\n",
            "memory usage: 67.3 KB\n"
          ],
          "name": "stdout"
        }
      ]
    },
    {
      "cell_type": "code",
      "metadata": {
        "id": "ZWc_8sBK3_V9"
      },
      "source": [
        "counts = df_wisata['id_wisata'].value_counts()\n",
        "df_wisata= df_wisata[df_wisata['id_wisata'].isin(counts[counts >= 10].index)]"
      ],
      "execution_count": null,
      "outputs": []
    },
    {
      "cell_type": "code",
      "metadata": {
        "colab": {
          "base_uri": "https://localhost:8080/"
        },
        "id": "UtYA8G1IuoET",
        "outputId": "a4181c70-b3ab-44d3-9a08-a06b097d5c4c"
      },
      "source": [
        "df_wisata.shape"
      ],
      "execution_count": null,
      "outputs": [
        {
          "output_type": "execute_result",
          "data": {
            "text/plain": [
              "(2859, 3)"
            ]
          },
          "metadata": {},
          "execution_count": 6
        }
      ]
    },
    {
      "cell_type": "code",
      "metadata": {
        "id": "k0iC5qCvuvAv"
      },
      "source": [
        "counts1 = df_wisata['id_user'].value_counts()\n",
        "#print(counts1)\n",
        "df_wisata= df_wisata[df_wisata['id_user'].isin(counts1[counts1 > 3].index)]"
      ],
      "execution_count": null,
      "outputs": []
    },
    {
      "cell_type": "code",
      "metadata": {
        "colab": {
          "base_uri": "https://localhost:8080/",
          "height": 296
        },
        "id": "3-4e6nfydXRZ",
        "outputId": "82bd0240-2172-406c-add7-711411ec15ec"
      },
      "source": [
        "df_wisata.describe()"
      ],
      "execution_count": null,
      "outputs": [
        {
          "output_type": "execute_result",
          "data": {
            "text/html": [
              "<div>\n",
              "<style scoped>\n",
              "    .dataframe tbody tr th:only-of-type {\n",
              "        vertical-align: middle;\n",
              "    }\n",
              "\n",
              "    .dataframe tbody tr th {\n",
              "        vertical-align: top;\n",
              "    }\n",
              "\n",
              "    .dataframe thead th {\n",
              "        text-align: right;\n",
              "    }\n",
              "</style>\n",
              "<table border=\"1\" class=\"dataframe\">\n",
              "  <thead>\n",
              "    <tr style=\"text-align: right;\">\n",
              "      <th></th>\n",
              "      <th>id_wisata</th>\n",
              "      <th>id_user</th>\n",
              "      <th>rating</th>\n",
              "    </tr>\n",
              "  </thead>\n",
              "  <tbody>\n",
              "    <tr>\n",
              "      <th>count</th>\n",
              "      <td>207.000000</td>\n",
              "      <td>2.070000e+02</td>\n",
              "      <td>207.000000</td>\n",
              "    </tr>\n",
              "    <tr>\n",
              "      <th>mean</th>\n",
              "      <td>17.159420</td>\n",
              "      <td>4.974511e+06</td>\n",
              "      <td>2.637681</td>\n",
              "    </tr>\n",
              "    <tr>\n",
              "      <th>std</th>\n",
              "      <td>8.529145</td>\n",
              "      <td>1.212039e+07</td>\n",
              "      <td>1.474420</td>\n",
              "    </tr>\n",
              "    <tr>\n",
              "      <th>min</th>\n",
              "      <td>2.000000</td>\n",
              "      <td>7.540000e+02</td>\n",
              "      <td>0.000000</td>\n",
              "    </tr>\n",
              "    <tr>\n",
              "      <th>25%</th>\n",
              "      <td>9.000000</td>\n",
              "      <td>4.201600e+04</td>\n",
              "      <td>2.000000</td>\n",
              "    </tr>\n",
              "    <tr>\n",
              "      <th>50%</th>\n",
              "      <td>20.000000</td>\n",
              "      <td>8.514410e+05</td>\n",
              "      <td>3.000000</td>\n",
              "    </tr>\n",
              "    <tr>\n",
              "      <th>75%</th>\n",
              "      <td>23.000000</td>\n",
              "      <td>4.114916e+06</td>\n",
              "      <td>4.000000</td>\n",
              "    </tr>\n",
              "    <tr>\n",
              "      <th>max</th>\n",
              "      <td>29.000000</td>\n",
              "      <td>6.188202e+07</td>\n",
              "      <td>5.000000</td>\n",
              "    </tr>\n",
              "  </tbody>\n",
              "</table>\n",
              "</div>"
            ],
            "text/plain": [
              "        id_wisata       id_user      rating\n",
              "count  207.000000  2.070000e+02  207.000000\n",
              "mean    17.159420  4.974511e+06    2.637681\n",
              "std      8.529145  1.212039e+07    1.474420\n",
              "min      2.000000  7.540000e+02    0.000000\n",
              "25%      9.000000  4.201600e+04    2.000000\n",
              "50%     20.000000  8.514410e+05    3.000000\n",
              "75%     23.000000  4.114916e+06    4.000000\n",
              "max     29.000000  6.188202e+07    5.000000"
            ]
          },
          "metadata": {},
          "execution_count": 8
        }
      ]
    },
    {
      "cell_type": "code",
      "metadata": {
        "colab": {
          "base_uri": "https://localhost:8080/"
        },
        "id": "j1Dt6Yh3dfpQ",
        "outputId": "9d4e290c-f857-4e2a-a349-5c4bf0c72efb"
      },
      "source": [
        "df1 = df_wisata[['id_wisata','id_user','rating']]\n",
        "df1.head()\n",
        "print(df1.nunique())"
      ],
      "execution_count": null,
      "outputs": [
        {
          "output_type": "stream",
          "text": [
            "id_wisata    27\n",
            "id_user      37\n",
            "rating        6\n",
            "dtype: int64\n"
          ],
          "name": "stdout"
        }
      ]
    },
    {
      "cell_type": "code",
      "metadata": {
        "id": "0Ycvr8W5ds6G"
      },
      "source": [
        "reader = Reader(rating_scale=(1, 5))\n",
        "data = Dataset.load_from_df(df1[['id_wisata','id_user','rating']], reader)\n",
        "\n",
        "data1 = data"
      ],
      "execution_count": null,
      "outputs": []
    },
    {
      "cell_type": "code",
      "metadata": {
        "id": "b4XdHEMBd5wk"
      },
      "source": [
        "raw_ratings = data.raw_ratings"
      ],
      "execution_count": null,
      "outputs": []
    },
    {
      "cell_type": "code",
      "metadata": {
        "colab": {
          "base_uri": "https://localhost:8080/"
        },
        "id": "zMFrcIiyd8WU",
        "outputId": "a6daafda-df2f-44b2-b4dd-d0e3dca73ac3"
      },
      "source": [
        "raw_ratings"
      ],
      "execution_count": null,
      "outputs": [
        {
          "output_type": "execute_result",
          "data": {
            "text/plain": [
              "[(2, 118725, 2.0, None),\n",
              " (2, 1892611, 3.0, None),\n",
              " (2, 61882019, 2.0, None),\n",
              " (3, 3433, 5.0, None),\n",
              " (3, 4931, 0.0, None),\n",
              " (3, 9819, 0.0, None),\n",
              " (3, 12948, 3.0, None),\n",
              " (3, 105661, 5.0, None),\n",
              " (3, 118725, 0.0, None),\n",
              " (3, 125123, 4.0, None),\n",
              " (3, 142118, 0.0, None),\n",
              " (3, 201891, 0.0, None),\n",
              " (3, 696919, 0.0, None),\n",
              " (3, 923114, 5.0, None),\n",
              " (3, 1133820, 0.0, None),\n",
              " (3, 1311891, 5.0, None),\n",
              " (3, 1892611, 0.0, None),\n",
              " (3, 1892611, 0.0, None),\n",
              " (3, 1988127, 4.0, None),\n",
              " (3, 2939155, 0.0, None),\n",
              " (3, 5382514, 5.0, None),\n",
              " (3, 7239124, 0.0, None),\n",
              " (3, 7517577, 4.0, None),\n",
              " (3, 7517577, 0.0, None),\n",
              " (3, 12111914, 0.0, None),\n",
              " (3, 12111914, 0.0, None),\n",
              " (3, 61882019, 2.0, None),\n",
              " (4, 75451, 3.0, None),\n",
              " (4, 125123, 2.0, None),\n",
              " (4, 546155, 5.0, None),\n",
              " (4, 4114916, 4.0, None),\n",
              " (4, 7517577, 3.0, None),\n",
              " (4, 49525111, 3.0, None),\n",
              " (5, 754, 3.0, None),\n",
              " (5, 13118, 3.0, None),\n",
              " (5, 5382514, 5.0, None),\n",
              " (5, 61882019, 3.0, None),\n",
              " (6, 3433, 5.0, None),\n",
              " (6, 75451, 2.0, None),\n",
              " (6, 851441, 5.0, None),\n",
              " (6, 14811979, 4.0, None),\n",
              " (7, 1379, 2.0, None),\n",
              " (7, 3433, 5.0, None),\n",
              " (7, 1133820, 2.0, None),\n",
              " (7, 1892611, 3.0, None),\n",
              " (8, 71191, 0.0, None),\n",
              " (8, 118725, 3.0, None),\n",
              " (8, 7239124, 3.0, None),\n",
              " (8, 61882019, 3.0, None),\n",
              " (9, 105661, 5.0, None),\n",
              " (9, 696919, 3.0, None),\n",
              " (9, 1892611, 1.0, None),\n",
              " (9, 12111914, 2.0, None),\n",
              " (9, 49525111, 3.0, None),\n",
              " (10, 3433, 0.0, None),\n",
              " (10, 18691, 0.0, None),\n",
              " (10, 75451, 2.0, None),\n",
              " (11, 1379, 3.0, None),\n",
              " (11, 851441, 5.0, None),\n",
              " (12, 3433, 5.0, None),\n",
              " (12, 118725, 3.0, None),\n",
              " (12, 546155, 3.0, None),\n",
              " (12, 851441, 4.0, None),\n",
              " (12, 923114, 3.0, None),\n",
              " (12, 12111914, 1.0, None),\n",
              " (13, 3433, 3.0, None),\n",
              " (13, 17629, 2.0, None),\n",
              " (13, 851441, 0.0, None),\n",
              " (14, 754, 3.0, None),\n",
              " (14, 1133820, 3.0, None),\n",
              " (15, 12948, 2.0, None),\n",
              " (16, 17629, 3.0, None),\n",
              " (16, 851441, 0.0, None),\n",
              " (16, 7239124, 3.0, None),\n",
              " (16, 12111914, 5.0, None),\n",
              " (16, 61882019, 2.0, None),\n",
              " (18, 12948, 3.0, None),\n",
              " (18, 17629, 0.0, None),\n",
              " (19, 4931, 0.0, None),\n",
              " (19, 9819, 5.0, None),\n",
              " (19, 12948, 4.0, None),\n",
              " (19, 13118, 2.0, None),\n",
              " (19, 18691, 2.0, None),\n",
              " (19, 42016, 3.0, None),\n",
              " (19, 114418, 2.0, None),\n",
              " (19, 118725, 3.0, None),\n",
              " (19, 142118, 3.0, None),\n",
              " (19, 201891, 3.0, None),\n",
              " (19, 851441, 2.0, None),\n",
              " (19, 1133820, 3.0, None),\n",
              " (19, 2018518, 2.0, None),\n",
              " (19, 2939155, 4.0, None),\n",
              " (19, 4114916, 2.0, None),\n",
              " (19, 7239124, 3.0, None),\n",
              " (19, 7517577, 0.0, None),\n",
              " (19, 12111914, 2.0, None),\n",
              " (19, 49525111, 4.0, None),\n",
              " (20, 18691, 2.0, None),\n",
              " (20, 42016, 4.0, None),\n",
              " (20, 71191, 2.0, None),\n",
              " (20, 105661, 3.0, None),\n",
              " (20, 114418, 3.0, None),\n",
              " (20, 1172777, 3.0, None),\n",
              " (20, 1892611, 3.0, None),\n",
              " (20, 1988127, 4.0, None),\n",
              " (20, 7239124, 4.0, None),\n",
              " (20, 12111914, 4.0, None),\n",
              " (20, 49525111, 2.0, None),\n",
              " (21, 4931, 2.0, None),\n",
              " (21, 13118, 3.0, None),\n",
              " (21, 105661, 3.0, None),\n",
              " (21, 118725, 1.0, None),\n",
              " (21, 142118, 1.0, None),\n",
              " (21, 201891, 2.0, None),\n",
              " (21, 923114, 2.0, None),\n",
              " (21, 1133820, 5.0, None),\n",
              " (21, 1311891, 4.0, None),\n",
              " (21, 1988127, 3.0, None),\n",
              " (21, 2939155, 4.0, None),\n",
              " (21, 4114916, 4.0, None),\n",
              " (21, 5382514, 3.0, None),\n",
              " (21, 5382514, 3.0, None),\n",
              " (21, 5382514, 3.0, None),\n",
              " (21, 7239124, 1.0, None),\n",
              " (21, 7517577, 3.0, None),\n",
              " (21, 12111914, 3.0, None),\n",
              " (22, 3433, 3.0, None),\n",
              " (22, 13118, 3.0, None),\n",
              " (22, 17629, 4.0, None),\n",
              " (22, 71191, 2.0, None),\n",
              " (22, 118725, 2.0, None),\n",
              " (22, 546155, 3.0, None),\n",
              " (22, 546155, 3.0, None),\n",
              " (22, 696919, 5.0, None),\n",
              " (22, 1133820, 3.0, None),\n",
              " (22, 1892611, 4.0, None),\n",
              " (22, 2018518, 3.0, None),\n",
              " (22, 7239124, 2.0, None),\n",
              " (22, 7239124, 2.0, None),\n",
              " (22, 12111914, 3.0, None),\n",
              " (23, 754, 2.0, None),\n",
              " (23, 4931, 0.0, None),\n",
              " (23, 9819, 4.0, None),\n",
              " (23, 13118, 0.0, None),\n",
              " (23, 42016, 3.0, None),\n",
              " (23, 114418, 2.0, None),\n",
              " (23, 125123, 2.0, None),\n",
              " (23, 142118, 0.0, None),\n",
              " (23, 201891, 2.0, None),\n",
              " (23, 546155, 0.0, None),\n",
              " (23, 851441, 0.0, None),\n",
              " (23, 1311891, 5.0, None),\n",
              " (23, 1311891, 0.0, None),\n",
              " (23, 1988127, 1.0, None),\n",
              " (23, 2018518, 4.0, None),\n",
              " (23, 5382514, 3.0, None),\n",
              " (23, 7239124, 3.0, None),\n",
              " (23, 7517577, 3.0, None),\n",
              " (23, 14811979, 5.0, None),\n",
              " (23, 49525111, 3.0, None),\n",
              " (24, 754, 3.0, None),\n",
              " (24, 1379, 5.0, None),\n",
              " (24, 42016, 2.0, None),\n",
              " (24, 118725, 3.0, None),\n",
              " (24, 923114, 4.0, None),\n",
              " (24, 1892611, 3.0, None),\n",
              " (24, 14811979, 4.0, None),\n",
              " (25, 4931, 3.0, None),\n",
              " (25, 9819, 3.0, None),\n",
              " (25, 71191, 3.0, None),\n",
              " (25, 75451, 3.0, None),\n",
              " (25, 696919, 5.0, None),\n",
              " (25, 851441, 3.0, None),\n",
              " (25, 1133820, 2.0, None),\n",
              " (25, 1172777, 2.0, None),\n",
              " (25, 4114916, 4.0, None),\n",
              " (25, 7239124, 3.0, None),\n",
              " (25, 14811979, 3.0, None),\n",
              " (26, 754, 3.0, None),\n",
              " (26, 125123, 4.0, None),\n",
              " (26, 2018518, 3.0, None),\n",
              " (27, 754, 5.0, None),\n",
              " (27, 42016, 3.0, None),\n",
              " (27, 1172777, 3.0, None),\n",
              " (27, 1892611, 4.0, None),\n",
              " (27, 2939155, 4.0, None),\n",
              " (28, 1379, 4.0, None),\n",
              " (28, 4931, 0.0, None),\n",
              " (28, 9819, 0.0, None),\n",
              " (28, 118725, 2.0, None),\n",
              " (28, 201891, 4.0, None),\n",
              " (28, 546155, 4.0, None),\n",
              " (28, 923114, 3.0, None),\n",
              " (28, 1133820, 4.0, None),\n",
              " (28, 1892611, 3.0, None),\n",
              " (28, 7239124, 0.0, None),\n",
              " (28, 7517577, 2.0, None),\n",
              " (28, 12111914, 3.0, None),\n",
              " (28, 14811979, 3.0, None),\n",
              " (29, 4931, 3.0, None),\n",
              " (29, 9819, 2.0, None),\n",
              " (29, 12948, 3.0, None),\n",
              " (29, 18691, 1.0, None),\n",
              " (29, 114418, 4.0, None),\n",
              " (29, 546155, 0.0, None),\n",
              " (29, 1172777, 2.0, None),\n",
              " (29, 7517577, 3.0, None)]"
            ]
          },
          "metadata": {},
          "execution_count": 12
        }
      ]
    },
    {
      "cell_type": "code",
      "metadata": {
        "id": "q7uqGOCoFouN"
      },
      "source": [
        "hasil = df_wisata.groupby('id_wisata')['rating'].sum()"
      ],
      "execution_count": null,
      "outputs": []
    },
    {
      "cell_type": "code",
      "metadata": {
        "colab": {
          "base_uri": "https://localhost:8080/"
        },
        "id": "PnXHitchRg3x",
        "outputId": "19bc12a4-7912-4e3b-9520-13e6e9440d4a"
      },
      "source": [
        "hasil"
      ],
      "execution_count": null,
      "outputs": [
        {
          "output_type": "execute_result",
          "data": {
            "text/plain": [
              "id_wisata\n",
              "1       30\n",
              "2       93\n",
              "3      574\n",
              "4      156\n",
              "5      236\n",
              "6      127\n",
              "7      214\n",
              "8       47\n",
              "9      208\n",
              "10      75\n",
              "11      52\n",
              "12      87\n",
              "13      23\n",
              "14      45\n",
              "15      54\n",
              "16      58\n",
              "17      25\n",
              "18      41\n",
              "19     850\n",
              "20     993\n",
              "21    1125\n",
              "22     119\n",
              "23    1164\n",
              "24     137\n",
              "25     359\n",
              "26     186\n",
              "27      98\n",
              "28     437\n",
              "29     366\n",
              "Name: rating, dtype: int64"
            ]
          },
          "metadata": {},
          "execution_count": 33
        }
      ]
    },
    {
      "cell_type": "code",
      "metadata": {
        "id": "gSYI74bHRVu5"
      },
      "source": [
        "hasil.to_csv('hasilsvd.csv',index=False)"
      ],
      "execution_count": null,
      "outputs": []
    },
    {
      "cell_type": "code",
      "metadata": {
        "id": "V6LaS_e7CYvj"
      },
      "source": [
        "#raw_ratings.to_csv('hasilsvd.csv',index=False)"
      ],
      "execution_count": null,
      "outputs": []
    },
    {
      "cell_type": "code",
      "metadata": {
        "id": "-S0McTfQeAlR"
      },
      "source": [
        "threshold = int(.8 * len(raw_ratings))"
      ],
      "execution_count": null,
      "outputs": []
    },
    {
      "cell_type": "code",
      "metadata": {
        "id": "vHcz28eieFap"
      },
      "source": [
        "A_raw_ratings = raw_ratings[:threshold]\n",
        "B_raw_ratings = raw_ratings[threshold:]\n",
        "\n",
        "trainset, testset = train_test_split(data, test_size=.20)"
      ],
      "execution_count": null,
      "outputs": []
    },
    {
      "cell_type": "code",
      "metadata": {
        "id": "EDt3_Hj2eI7c"
      },
      "source": [
        "data.raw_ratings = A_raw_ratings  # data is now the set A\n",
        "data1.raw_ratings = B_raw_ratings"
      ],
      "execution_count": null,
      "outputs": []
    },
    {
      "cell_type": "code",
      "metadata": {
        "id": "FLHt2JdmeMb9",
        "colab": {
          "base_uri": "https://localhost:8080/"
        },
        "outputId": "679fc375-e47b-44e4-e0d2-5378f38b785a"
      },
      "source": [
        "start = time.time()\n",
        "param_grid = {'n_epochs': [5, 10], 'lr_all': [0.002, 0.005,0.1],\n",
        "              'reg_all': [0.4, 0.6], 'n_factors':[100,500]}\n",
        "grid_search = GridSearchCV(SVD, param_grid, measures=['rmse','mae'], cv=3)\n",
        "grid_search.fit(data)\n",
        "end = time.time()\n",
        "print('best RMSE score')\n",
        "print(grid_search.best_score['rmse'])\n",
        "print(\"Time : \",end-start)"
      ],
      "execution_count": null,
      "outputs": [
        {
          "output_type": "stream",
          "text": [
            "best RMSE score\n",
            "1.1750992426917082\n",
            "Time :  0.21423554420471191\n"
          ],
          "name": "stdout"
        }
      ]
    },
    {
      "cell_type": "code",
      "metadata": {
        "colab": {
          "base_uri": "https://localhost:8080/"
        },
        "id": "RDk06oOaUPCz",
        "outputId": "ac868ff9-0f96-4e0e-d701-c1a376b2006c"
      },
      "source": [
        "print('combination of parameters that gave the best RMSE score')\n",
        "print(grid_search.best_params['rmse'])\n",
        "algo = grid_search.best_estimator['rmse']"
      ],
      "execution_count": null,
      "outputs": [
        {
          "output_type": "stream",
          "text": [
            "combination of parameters that gave the best RMSE score\n",
            "{'n_epochs': 10, 'lr_all': 0.002, 'reg_all': 0.6, 'n_factors': 500}\n"
          ],
          "name": "stdout"
        }
      ]
    },
    {
      "cell_type": "code",
      "metadata": {
        "colab": {
          "base_uri": "https://localhost:8080/"
        },
        "id": "dJPlszElUSTX",
        "outputId": "2d411983-af7d-4c53-d516-b737ad15f73a"
      },
      "source": [
        "trainset = data.build_full_trainset()\n",
        "algo.fit(trainset)\n",
        "\n",
        "# Compute biased accuracy on A\n",
        "testset= trainset.build_testset()\n",
        "predictions = algo.test(testset)\n",
        "print('Biased accuracy on A,', end='   ')\n",
        "accuracy.rmse(predictions,verbose=True)\n",
        "print('len(predictions)')\n",
        "print(len(predictions))"
      ],
      "execution_count": null,
      "outputs": [
        {
          "output_type": "stream",
          "text": [
            "Biased accuracy on A,   RMSE: 0.9444\n",
            "len(predictions)\n",
            "42\n"
          ],
          "name": "stdout"
        }
      ]
    },
    {
      "cell_type": "code",
      "metadata": {
        "colab": {
          "base_uri": "https://localhost:8080/"
        },
        "id": "b1E0lF0WUYxx",
        "outputId": "e5cdae9b-b4f4-4713-8515-08d08603f4cd"
      },
      "source": [
        "# Compute unbiased accuracy on B\n",
        "testset = data.construct_testset(B_raw_ratings)  # testset is now the set B\n",
        "predictions = algo.test(testset)\n",
        "print('Unbiased accuracy on B,', end=' ')\n",
        "accuracy.rmse(predictions)\n",
        "print('len(predictions)')\n",
        "print(len(predictions))"
      ],
      "execution_count": null,
      "outputs": [
        {
          "output_type": "stream",
          "text": [
            "Unbiased accuracy on B, RMSE: 0.9444\n",
            "len(predictions)\n",
            "42\n"
          ],
          "name": "stdout"
        }
      ]
    },
    {
      "cell_type": "code",
      "metadata": {
        "colab": {
          "base_uri": "https://localhost:8080/"
        },
        "id": "amP4mMCZUcWx",
        "outputId": "ba3e6491-ba8e-475b-918d-7e0a4870afc7"
      },
      "source": [
        "# define a cross-validation iterator\n",
        "kf = KFold(n_splits=7)\n",
        "#algo = SVD(n_factors=500, n_epochs=5, lr_all=0.1)\n",
        "\n",
        "for trainset, testset in kf.split(data1):\n",
        "    # train and test algorithm.\n",
        "    algo.fit(trainset)\n",
        "    \n",
        "    predictions = algo.test(testset)\n",
        "    \n",
        "    # Compute and print Root Mean Squared Error\n",
        "    accuracy.rmse(predictions, verbose=True)"
      ],
      "execution_count": null,
      "outputs": [
        {
          "output_type": "stream",
          "text": [
            "RMSE: 1.6923\n",
            "RMSE: 1.4034\n",
            "RMSE: 0.4886\n",
            "RMSE: 1.3842\n",
            "RMSE: 0.7703\n",
            "RMSE: 1.7135\n",
            "RMSE: 0.7732\n"
          ],
          "name": "stdout"
        }
      ]
    }
  ]
}